{
 "cells": [
  {
   "cell_type": "markdown",
   "metadata": {},
   "source": [
    "## Analytic Assignment 1"
   ]
  },
  {
   "cell_type": "markdown",
   "metadata": {},
   "source": [
    "### Phase 1: Supercell vs. Competition\n",
    "\n",
    "In the first phase of the analysis we are looking to understand  how is Supercell doing vs. King and Zynga. By answering the below questions, we would set the scene on which we can build the analysis further:"
   ]
  },
  {
   "cell_type": "markdown",
   "metadata": {},
   "source": [
    "a)  What is the average monthly  user growth  rates of Supercell, King and Zynga?\n",
    "\n",
    "b)  What is the net reach of Supercell, King and Zynga in the sample for each of the 3 months?\n",
    "\n",
    "c)  What is the total time spent per month  per user for Supercell, King and Zynga for July?\n",
    "\n",
    "d)  Which of Supercell, King and Zynga had the largest average session duration in June?\n",
    "\n",
    "e)  What is the gender distribution of Supercell vs. King users?"
   ]
  },
  {
   "cell_type": "code",
   "execution_count": 1,
   "metadata": {
    "collapsed": true
   },
   "outputs": [],
   "source": [
    "import os.path\n",
    "import datetime\n",
    "import math\n",
    "\n",
    "import pandas as pd\n",
    "import numpy as np\n",
    "import matplotlib.pyplot as plt\n",
    "%matplotlib inline\n",
    "plt.style.use('ggplot')"
   ]
  },
  {
   "cell_type": "code",
   "execution_count": 2,
   "metadata": {
    "collapsed": false
   },
   "outputs": [],
   "source": [
    "# set data path\n",
    "data_path = os.path.join(os.path.dirname('__file__'), \"Verto_Data_Analyst_Assignment/Assignment_1_Data/\")"
   ]
  },
  {
   "cell_type": "code",
   "execution_count": 3,
   "metadata": {
    "collapsed": false
   },
   "outputs": [],
   "source": [
    "# import data files to pandas dataframes\n",
    "demographics_df = pd.read_csv(data_path + \"demographics_data.csv\", sep=';')\n",
    "devices_df = pd.read_csv(data_path + \"devices_data.csv\", sep=';')\n",
    "dictionary_df = pd.read_csv(data_path + \"dictionary_data.csv\", sep=';')\n",
    "main_branches_df = pd.read_csv(data_path + \"main_branches.csv\", sep=';')\n",
    "sessions_df = pd.read_csv(data_path + \"sessions_data.csv\", sep=';')\n",
    "subjects_tree_df = pd.read_csv(data_path + \"subjects_tree_data.csv\", sep=';')"
   ]
  },
  {
   "cell_type": "markdown",
   "metadata": {
    "collapsed": true
   },
   "source": [
    "#### a)  What is the average monthly user growth rates of Supercell, King and Zynga?\n",
    "\n",
    "To answer this question, get the monthly users number in May and July, then calculate the monthly growth rates in two months. July = May * (1 + n)^2"
   ]
  },
  {
   "cell_type": "code",
   "execution_count": 4,
   "metadata": {
    "collapsed": false
   },
   "outputs": [],
   "source": [
    "# There are 177 rows that subject_id are actually branch_id, so firstly modify branch_id to subject_id.\n",
    "\n",
    "subjects_id_sessions_df = sessions_df[~sessions_df['subject_id'].isin(subjects_tree_df['branch_id'])]\n",
    "branches_id_sessions_df = sessions_df[sessions_df['subject_id'].isin(subjects_tree_df['branch_id'])]\n",
    "branches_id_sessions_df = branches_id_sessions_df.rename(columns = {'subject_id':'branch_id'})\n",
    "\n",
    "id_modification_df = pd.merge(branches_id_sessions_df, subjects_tree_df, on='branch_id', how='left')\n",
    "id_modification_df.drop(['readable_name', 'parent_branch_id', 'ancestors_branch_ids'],inplace=True,axis=1)\n",
    "id_modification_df = id_modification_df.drop_duplicates(subset =['branch_id', 'start_timestamp'], keep='last')\n",
    "id_modification_df.drop(['branch_id'],inplace=True,axis=1)"
   ]
  },
  {
   "cell_type": "code",
   "execution_count": 5,
   "metadata": {
    "collapsed": false
   },
   "outputs": [
    {
     "data": {
      "text/html": [
       "<div>\n",
       "<table border=\"1\" class=\"dataframe\">\n",
       "  <thead>\n",
       "    <tr style=\"text-align: right;\">\n",
       "      <th></th>\n",
       "      <th>device_id</th>\n",
       "      <th>end_timestamp</th>\n",
       "      <th>interaction_type</th>\n",
       "      <th>os</th>\n",
       "      <th>start_timestamp</th>\n",
       "      <th>subject_id</th>\n",
       "      <th>user_id</th>\n",
       "    </tr>\n",
       "  </thead>\n",
       "  <tbody>\n",
       "    <tr>\n",
       "      <th>0</th>\n",
       "      <td>10212</td>\n",
       "      <td>2016-07-02 05:35:36</td>\n",
       "      <td>app</td>\n",
       "      <td>android</td>\n",
       "      <td>2016-07-02 05:29:24</td>\n",
       "      <td>5245226</td>\n",
       "      <td>2694</td>\n",
       "    </tr>\n",
       "    <tr>\n",
       "      <th>1</th>\n",
       "      <td>10212</td>\n",
       "      <td>2016-07-19 13:33:20</td>\n",
       "      <td>app</td>\n",
       "      <td>android</td>\n",
       "      <td>2016-07-19 13:30:27</td>\n",
       "      <td>5245226</td>\n",
       "      <td>2694</td>\n",
       "    </tr>\n",
       "    <tr>\n",
       "      <th>2</th>\n",
       "      <td>10212</td>\n",
       "      <td>2016-06-26 19:13:03</td>\n",
       "      <td>app</td>\n",
       "      <td>android</td>\n",
       "      <td>2016-06-26 19:10:29</td>\n",
       "      <td>5245226</td>\n",
       "      <td>2694</td>\n",
       "    </tr>\n",
       "    <tr>\n",
       "      <th>3</th>\n",
       "      <td>10212</td>\n",
       "      <td>2016-05-18 02:03:57</td>\n",
       "      <td>app</td>\n",
       "      <td>android</td>\n",
       "      <td>2016-05-18 01:51:42</td>\n",
       "      <td>5245226</td>\n",
       "      <td>2694</td>\n",
       "    </tr>\n",
       "    <tr>\n",
       "      <th>4</th>\n",
       "      <td>10212</td>\n",
       "      <td>2016-06-23 05:06:51</td>\n",
       "      <td>app</td>\n",
       "      <td>android</td>\n",
       "      <td>2016-06-23 05:02:43</td>\n",
       "      <td>5245226</td>\n",
       "      <td>2694</td>\n",
       "    </tr>\n",
       "  </tbody>\n",
       "</table>\n",
       "</div>"
      ],
      "text/plain": [
       "   device_id        end_timestamp interaction_type       os  \\\n",
       "0      10212  2016-07-02 05:35:36              app  android   \n",
       "1      10212  2016-07-19 13:33:20              app  android   \n",
       "2      10212  2016-06-26 19:13:03              app  android   \n",
       "3      10212  2016-05-18 02:03:57              app  android   \n",
       "4      10212  2016-06-23 05:06:51              app  android   \n",
       "\n",
       "       start_timestamp  subject_id  user_id  \n",
       "0  2016-07-02 05:29:24     5245226     2694  \n",
       "1  2016-07-19 13:30:27     5245226     2694  \n",
       "2  2016-06-26 19:10:29     5245226     2694  \n",
       "3  2016-05-18 01:51:42     5245226     2694  \n",
       "4  2016-06-23 05:02:43     5245226     2694  "
      ]
     },
     "execution_count": 5,
     "metadata": {},
     "output_type": "execute_result"
    }
   ],
   "source": [
    "# get the new dataframe user_growth_rates_df with corrected subject_id.\n",
    "\n",
    "user_growth_rates_df = pd.concat([subjects_id_sessions_df, id_modification_df])\n",
    "user_growth_rates_df.reset_index(inplace=True, drop=True)\n",
    "user_growth_rates_df.head()"
   ]
  },
  {
   "cell_type": "code",
   "execution_count": 6,
   "metadata": {
    "collapsed": false
   },
   "outputs": [
    {
     "data": {
      "text/plain": [
       "array(['Facebook', 'Amazon', 'Google', 'Zynga', 'Walmart', 'Supercell',\n",
       "       'King'], dtype=object)"
      ]
     },
     "execution_count": 6,
     "metadata": {},
     "output_type": "execute_result"
    }
   ],
   "source": [
    "# set property column in main_branches_df to lowercase\n",
    "main_branches_df['property'] = main_branches_df['property'].str.lower()\n",
    "\n",
    "# rename readable_name column in dictionary_df to match with main_branches_df\n",
    "dictionary_df = dictionary_df.rename(columns = {'readable_name':'property'})\n",
    "dictionary_df['property'] = dictionary_df['property'].str.lower()\n",
    "\n",
    "# merge dictionary_df and main_branches_df \n",
    "dictionary_df = pd.merge(dictionary_df, main_branches_df, on='property', how='left')\n",
    "dictionary_df.drop(['branch_id'],inplace=True,axis=1)\n",
    "\n",
    "# categorize property in dictionary_df to parent company name\n",
    "dictionary_df.ix[dictionary_df['property'].str.startswith('facebook'), 'company_name'] = \"Facebook\"\n",
    "dictionary_df.ix[dictionary_df['property'].str.startswith('fb'), 'company_name'] = \"Facebook\"\n",
    "dictionary_df.ix[dictionary_df['property'].str.startswith('amazon'), 'company_name'] = \"Amazon\"\n",
    "dictionary_df.ix[dictionary_df['property'].str.startswith('lovefilm'), 'company_name'] = \"Amazon\"\n",
    "dictionary_df.ix[dictionary_df['property'].str.startswith('youtube'), 'company_name'] = \"Google\"\n",
    "dictionary_df.ix[dictionary_df['property'].str.startswith('walmart'), 'company_name'] = \"Walmart\"\n",
    "dictionary_df.ix[dictionary_df['property'].str.startswith('wal-mart'), 'company_name'] = \"Walmart\"\n",
    "dictionary_df.ix[dictionary_df['property'].str.startswith('words with friends'), 'company_name'] = \"Zynga\"\n",
    "dictionary_df['company_name'].unique()"
   ]
  },
  {
   "cell_type": "code",
   "execution_count": 7,
   "metadata": {
    "collapsed": false
   },
   "outputs": [
    {
     "data": {
      "text/html": [
       "<div>\n",
       "<table border=\"1\" class=\"dataframe\">\n",
       "  <thead>\n",
       "    <tr style=\"text-align: right;\">\n",
       "      <th></th>\n",
       "      <th>device_id</th>\n",
       "      <th>end_timestamp</th>\n",
       "      <th>interaction_type</th>\n",
       "      <th>os</th>\n",
       "      <th>start_timestamp</th>\n",
       "      <th>subject_id</th>\n",
       "      <th>user_id</th>\n",
       "      <th>property</th>\n",
       "      <th>company_name</th>\n",
       "    </tr>\n",
       "  </thead>\n",
       "  <tbody>\n",
       "    <tr>\n",
       "      <th>0</th>\n",
       "      <td>10212</td>\n",
       "      <td>2016-07-02 05:35:36</td>\n",
       "      <td>app</td>\n",
       "      <td>android</td>\n",
       "      <td>2016-07-02 05:29:24</td>\n",
       "      <td>5245226</td>\n",
       "      <td>2694</td>\n",
       "      <td>youtube</td>\n",
       "      <td>Google</td>\n",
       "    </tr>\n",
       "    <tr>\n",
       "      <th>1</th>\n",
       "      <td>10212</td>\n",
       "      <td>2016-07-19 13:33:20</td>\n",
       "      <td>app</td>\n",
       "      <td>android</td>\n",
       "      <td>2016-07-19 13:30:27</td>\n",
       "      <td>5245226</td>\n",
       "      <td>2694</td>\n",
       "      <td>youtube</td>\n",
       "      <td>Google</td>\n",
       "    </tr>\n",
       "    <tr>\n",
       "      <th>2</th>\n",
       "      <td>10212</td>\n",
       "      <td>2016-06-26 19:13:03</td>\n",
       "      <td>app</td>\n",
       "      <td>android</td>\n",
       "      <td>2016-06-26 19:10:29</td>\n",
       "      <td>5245226</td>\n",
       "      <td>2694</td>\n",
       "      <td>youtube</td>\n",
       "      <td>Google</td>\n",
       "    </tr>\n",
       "    <tr>\n",
       "      <th>3</th>\n",
       "      <td>10212</td>\n",
       "      <td>2016-05-18 02:03:57</td>\n",
       "      <td>app</td>\n",
       "      <td>android</td>\n",
       "      <td>2016-05-18 01:51:42</td>\n",
       "      <td>5245226</td>\n",
       "      <td>2694</td>\n",
       "      <td>youtube</td>\n",
       "      <td>Google</td>\n",
       "    </tr>\n",
       "    <tr>\n",
       "      <th>4</th>\n",
       "      <td>10212</td>\n",
       "      <td>2016-06-23 05:06:51</td>\n",
       "      <td>app</td>\n",
       "      <td>android</td>\n",
       "      <td>2016-06-23 05:02:43</td>\n",
       "      <td>5245226</td>\n",
       "      <td>2694</td>\n",
       "      <td>youtube</td>\n",
       "      <td>Google</td>\n",
       "    </tr>\n",
       "  </tbody>\n",
       "</table>\n",
       "</div>"
      ],
      "text/plain": [
       "   device_id        end_timestamp interaction_type       os  \\\n",
       "0      10212  2016-07-02 05:35:36              app  android   \n",
       "1      10212  2016-07-19 13:33:20              app  android   \n",
       "2      10212  2016-06-26 19:13:03              app  android   \n",
       "3      10212  2016-05-18 02:03:57              app  android   \n",
       "4      10212  2016-06-23 05:06:51              app  android   \n",
       "\n",
       "       start_timestamp  subject_id  user_id property company_name  \n",
       "0  2016-07-02 05:29:24     5245226     2694  youtube       Google  \n",
       "1  2016-07-19 13:30:27     5245226     2694  youtube       Google  \n",
       "2  2016-06-26 19:10:29     5245226     2694  youtube       Google  \n",
       "3  2016-05-18 01:51:42     5245226     2694  youtube       Google  \n",
       "4  2016-06-23 05:02:43     5245226     2694  youtube       Google  "
      ]
     },
     "execution_count": 7,
     "metadata": {},
     "output_type": "execute_result"
    }
   ],
   "source": [
    "# merge user_growth_rates_df and dictionary_df to get company name for each session\n",
    "\n",
    "user_growth_rates_df = pd.merge(user_growth_rates_df, dictionary_df, on='subject_id', how='left')\n",
    "user_growth_rates_df.head()"
   ]
  },
  {
   "cell_type": "code",
   "execution_count": 8,
   "metadata": {
    "collapsed": false
   },
   "outputs": [
    {
     "data": {
      "text/html": [
       "<div>\n",
       "<table border=\"1\" class=\"dataframe\">\n",
       "  <thead>\n",
       "    <tr style=\"text-align: right;\">\n",
       "      <th></th>\n",
       "      <th>device_id</th>\n",
       "      <th>end_timestamp</th>\n",
       "      <th>interaction_type</th>\n",
       "      <th>os</th>\n",
       "      <th>start_timestamp</th>\n",
       "      <th>subject_id</th>\n",
       "      <th>user_id</th>\n",
       "      <th>property</th>\n",
       "      <th>company_name</th>\n",
       "      <th>month</th>\n",
       "    </tr>\n",
       "  </thead>\n",
       "  <tbody>\n",
       "    <tr>\n",
       "      <th>0</th>\n",
       "      <td>10212</td>\n",
       "      <td>2016-07-02 05:35:36</td>\n",
       "      <td>app</td>\n",
       "      <td>android</td>\n",
       "      <td>2016-07-02 05:29:24</td>\n",
       "      <td>5245226</td>\n",
       "      <td>2694</td>\n",
       "      <td>youtube</td>\n",
       "      <td>Google</td>\n",
       "      <td>7</td>\n",
       "    </tr>\n",
       "    <tr>\n",
       "      <th>1</th>\n",
       "      <td>10212</td>\n",
       "      <td>2016-07-19 13:33:20</td>\n",
       "      <td>app</td>\n",
       "      <td>android</td>\n",
       "      <td>2016-07-19 13:30:27</td>\n",
       "      <td>5245226</td>\n",
       "      <td>2694</td>\n",
       "      <td>youtube</td>\n",
       "      <td>Google</td>\n",
       "      <td>7</td>\n",
       "    </tr>\n",
       "    <tr>\n",
       "      <th>2</th>\n",
       "      <td>10212</td>\n",
       "      <td>2016-06-26 19:13:03</td>\n",
       "      <td>app</td>\n",
       "      <td>android</td>\n",
       "      <td>2016-06-26 19:10:29</td>\n",
       "      <td>5245226</td>\n",
       "      <td>2694</td>\n",
       "      <td>youtube</td>\n",
       "      <td>Google</td>\n",
       "      <td>6</td>\n",
       "    </tr>\n",
       "    <tr>\n",
       "      <th>3</th>\n",
       "      <td>10212</td>\n",
       "      <td>2016-05-18 02:03:57</td>\n",
       "      <td>app</td>\n",
       "      <td>android</td>\n",
       "      <td>2016-05-18 01:51:42</td>\n",
       "      <td>5245226</td>\n",
       "      <td>2694</td>\n",
       "      <td>youtube</td>\n",
       "      <td>Google</td>\n",
       "      <td>5</td>\n",
       "    </tr>\n",
       "    <tr>\n",
       "      <th>4</th>\n",
       "      <td>10212</td>\n",
       "      <td>2016-06-23 05:06:51</td>\n",
       "      <td>app</td>\n",
       "      <td>android</td>\n",
       "      <td>2016-06-23 05:02:43</td>\n",
       "      <td>5245226</td>\n",
       "      <td>2694</td>\n",
       "      <td>youtube</td>\n",
       "      <td>Google</td>\n",
       "      <td>6</td>\n",
       "    </tr>\n",
       "  </tbody>\n",
       "</table>\n",
       "</div>"
      ],
      "text/plain": [
       "   device_id       end_timestamp interaction_type       os  \\\n",
       "0      10212 2016-07-02 05:35:36              app  android   \n",
       "1      10212 2016-07-19 13:33:20              app  android   \n",
       "2      10212 2016-06-26 19:13:03              app  android   \n",
       "3      10212 2016-05-18 02:03:57              app  android   \n",
       "4      10212 2016-06-23 05:06:51              app  android   \n",
       "\n",
       "      start_timestamp  subject_id  user_id property company_name  month  \n",
       "0 2016-07-02 05:29:24     5245226     2694  youtube       Google      7  \n",
       "1 2016-07-19 13:30:27     5245226     2694  youtube       Google      7  \n",
       "2 2016-06-26 19:10:29     5245226     2694  youtube       Google      6  \n",
       "3 2016-05-18 01:51:42     5245226     2694  youtube       Google      5  \n",
       "4 2016-06-23 05:02:43     5245226     2694  youtube       Google      6  "
      ]
     },
     "execution_count": 8,
     "metadata": {},
     "output_type": "execute_result"
    }
   ],
   "source": [
    "# normalize the timestamp and add month column to dataframe\n",
    "\n",
    "user_growth_rates_df['start_timestamp'] = pd.to_datetime(user_growth_rates_df['start_timestamp'])\n",
    "user_growth_rates_df['end_timestamp'] = pd.to_datetime(user_growth_rates_df['end_timestamp'])\n",
    "user_growth_rates_df['month'] = user_growth_rates_df['start_timestamp'].map(lambda x: x.month)\n",
    "user_growth_rates_df.head()"
   ]
  },
  {
   "cell_type": "code",
   "execution_count": 9,
   "metadata": {
    "collapsed": false
   },
   "outputs": [
    {
     "data": {
      "text/plain": [
       "company_name  month\n",
       "Amazon        5         89\n",
       "              6         79\n",
       "              7         87\n",
       "Facebook      5        100\n",
       "              6        100\n",
       "              7         99\n",
       "Google        5         97\n",
       "              6         95\n",
       "              7         95\n",
       "King          5         33\n",
       "              6         36\n",
       "              7         36\n",
       "Supercell     5         19\n",
       "              6         17\n",
       "              7         18\n",
       "Walmart       5         63\n",
       "              6         57\n",
       "              7         54\n",
       "Zynga         5         28\n",
       "              6         30\n",
       "              7         29\n",
       "Name: user_id, dtype: int64"
      ]
     },
     "execution_count": 9,
     "metadata": {},
     "output_type": "execute_result"
    }
   ],
   "source": [
    "# get the users number for each company in each month\n",
    "\n",
    "user_growth_rates_df.groupby(['company_name', 'month']).user_id.nunique()"
   ]
  },
  {
   "cell_type": "code",
   "execution_count": 10,
   "metadata": {
    "collapsed": false
   },
   "outputs": [
    {
     "name": "stdout",
     "output_type": "stream",
     "text": [
      "Average monthly user growth rates of Supercell:  -0.027\n",
      "Average monthly user growth rates of King:  0.044\n",
      "Average monthly user growth rates of Zynga:  0.018\n"
     ]
    }
   ],
   "source": [
    "# (users number in July) = (users number in May) * (1 + monthly growth rate)^2\n",
    "# (monthly growth rate) = sqrt((users number in July) / (users number in May)) - 1\n",
    "\n",
    "King_growth_rate = math.sqrt(36/33) - 1\n",
    "Supercell_growth_rate = math.sqrt(18/19) - 1\n",
    "Zynga_growth_rate = math.sqrt(29/28) - 1\n",
    "\n",
    "print('Average monthly user growth rates of Supercell: ', '{:.3f}'.format(Supercell_growth_rate))\n",
    "print('Average monthly user growth rates of King: ', '{:.3f}'.format(King_growth_rate))\n",
    "print('Average monthly user growth rates of Zynga: ', '{:.3f}'.format(Zynga_growth_rate))"
   ]
  },
  {
   "cell_type": "code",
   "execution_count": 11,
   "metadata": {
    "collapsed": false
   },
   "outputs": [
    {
     "data": {
      "text/plain": [
       "<matplotlib.text.Text at 0x21600c7c198>"
      ]
     },
     "execution_count": 11,
     "metadata": {},
     "output_type": "execute_result"
    },
    {
     "data": {
      "image/png": "[encoded data removed]",
      "text/plain": [
       "<matplotlib.figure.Figure at 0x2167af7fb00>"
      ]
     },
     "metadata": {},
     "output_type": "display_data"
    }
   ],
   "source": [
    "# To plot the monthly growth rate for each company with matplotlib\n",
    "\n",
    "plt.figure(figsize=(8,6)) # set a new figure\n",
    "x = range(3)\n",
    "\n",
    "user_growth_rates_bar = plt.bar(x, list([Supercell_growth_rate, King_growth_rate, Zynga_growth_rate]), align='center') # bar plot all the values\n",
    "plt.xticks(x, ['Supercell', 'King', 'Zynga'], fontsize=12) # set xticks by company name\n",
    "# plt.ylim(-0.1, 0.1) # set ylim to mark annotation later\n",
    "plt.xlabel('Company', fontsize=14)\n",
    "plt.ylabel('Average monthly user growth rates', fontsize=14)"
   ]
  },
  {
   "cell_type": "markdown",
   "metadata": {},
   "source": [
    "#### b) What is the net reach of Supercell, King and Zynga in the sample for each of the 3 months?\n",
    "\n",
    "To bulid dataframe, then calculate the net reach for each one in each month"
   ]
  },
  {
   "cell_type": "code",
   "execution_count": 12,
   "metadata": {
    "collapsed": false
   },
   "outputs": [
    {
     "name": "stdout",
     "output_type": "stream",
     "text": [
      "Net reach of King in May is:  33\n",
      "Net reach of King in June is:  37\n",
      "Net reach of King in July is:  39\n"
     ]
    }
   ],
   "source": [
    "# net reach for King\n",
    "king_df = user_growth_rates_df[user_growth_rates_df['company_name']=='King']\n",
    "king_df = pd.DataFrame(king_df.groupby(['month']).user_id.unique())\n",
    "king_net_reach_may = 33\n",
    "king_net_reach_june = king_net_reach_may + 36 - len(set(king_df.ix[5][0]) & set(king_df.ix[6][0]))\n",
    "king_net_reach_july = king_net_reach_june + 36 - len(set(king_df.ix[6][0]) & set(king_df.ix[7][0]))\n",
    "\n",
    "print('Net reach of King in May is: ', king_net_reach_may)\n",
    "print('Net reach of King in June is: ', king_net_reach_june)\n",
    "print('Net reach of King in July is: ', king_net_reach_july)"
   ]
  },
  {
   "cell_type": "code",
   "execution_count": 13,
   "metadata": {
    "collapsed": false
   },
   "outputs": [
    {
     "name": "stdout",
     "output_type": "stream",
     "text": [
      "Net reach of Supercell in May is:  19\n",
      "Net reach of Supercell in June is:  20\n",
      "Net reach of Supercell in July is:  21\n"
     ]
    }
   ],
   "source": [
    "# net reach for Supercell\n",
    "supercell_df = user_growth_rates_df[user_growth_rates_df['company_name']=='Supercell']\n",
    "supercell_df = pd.DataFrame(supercell_df.groupby(['month']).user_id.unique())\n",
    "supercell_net_reach_may = 19\n",
    "supercell_net_reach_june = supercell_net_reach_may + 17 - len(set(supercell_df.ix[5][0]) & set(supercell_df.ix[6][0]))\n",
    "supercell_net_reach_july = supercell_net_reach_june + 18 - len(set(supercell_df.ix[6][0]) & set(supercell_df.ix[7][0]))\n",
    "\n",
    "print('Net reach of Supercell in May is: ', supercell_net_reach_may)\n",
    "print('Net reach of Supercell in June is: ', supercell_net_reach_june)\n",
    "print('Net reach of Supercell in July is: ', supercell_net_reach_july)"
   ]
  },
  {
   "cell_type": "code",
   "execution_count": 14,
   "metadata": {
    "collapsed": false
   },
   "outputs": [
    {
     "name": "stdout",
     "output_type": "stream",
     "text": [
      "Net reach of Zynga in May is:  28\n",
      "Net reach of Zynga in June is:  31\n",
      "Net reach of Zynga in July is:  34\n"
     ]
    }
   ],
   "source": [
    "# net reach for Zynga\n",
    "zynga_df = user_growth_rates_df[user_growth_rates_df['company_name']=='Zynga']\n",
    "zynga_df = pd.DataFrame(zynga_df.groupby(['month']).user_id.unique())\n",
    "zynga_net_reach_may = 28\n",
    "zynga_net_reach_june = zynga_net_reach_may + 30 - len(set(zynga_df.ix[5][0]) & set(zynga_df.ix[6][0]))\n",
    "zynga_net_reach_july = zynga_net_reach_june + 29 - len(set(zynga_df.ix[6][0]) & set(zynga_df.ix[7][0]))\n",
    "\n",
    "print('Net reach of Zynga in May is: ', zynga_net_reach_may)\n",
    "print('Net reach of Zynga in June is: ', zynga_net_reach_june)\n",
    "print('Net reach of Zynga in July is: ', zynga_net_reach_july)"
   ]
  },
  {
   "cell_type": "code",
   "execution_count": 15,
   "metadata": {
    "collapsed": false
   },
   "outputs": [
    {
     "data": {
      "text/plain": [
       "[<matplotlib.text.Text at 0x21600f65160>,\n",
       " <matplotlib.text.Text at 0x2160118b748>,\n",
       " <matplotlib.text.Text at 0x216011bfdd8>]"
      ]
     },
     "execution_count": 15,
     "metadata": {},
     "output_type": "execute_result"
    },
    {
     "data": {
      "image/png": "[encoded data removed]",
      "text/plain": [
       "<matplotlib.figure.Figure at 0x21600c89e10>"
      ]
     },
     "metadata": {},
     "output_type": "display_data"
    }
   ],
   "source": [
    "# To plot with matplotlib\n",
    "\n",
    "ind = np.arange(3)  # the x locations for the groups\n",
    "width = 0.35       # the width of the bars\n",
    "\n",
    "fig = plt.figure(figsize=(12,6)) # set a new figure\n",
    "\n",
    "ax1 = fig.add_subplot(131)\n",
    "ax1.bar(ind,[19, 20, 21])\n",
    "ax1.set_title('Supercell')\n",
    "ax1.set_ylim([0, 40]) # set ylim to mark annotation later\n",
    "ax1.set_xticks(ind + width)\n",
    "ax1.set_xticklabels(['May', 'June', 'July'])\n",
    "ax1.set_ylabel('Net reach', fontsize=14)\n",
    "\n",
    "ax2 = fig.add_subplot(132)\n",
    "ax2.bar(ind,[33, 37, 39])\n",
    "ax2.set_title('King')\n",
    "ax2.set_ylim([0, 40]) # set ylim to mark annotation later\n",
    "ax2.set_xticks(ind + width)\n",
    "ax2.set_xticklabels(['May', 'June', 'July'])\n",
    "ax2.set_xlabel('Company', fontsize=14)\n",
    "\n",
    "ax3 = fig.add_subplot(133)\n",
    "ax3.bar(ind,[28, 31, 34])\n",
    "ax3.set_title('Zynga')\n",
    "ax3.set_ylim([0, 40]) # set ylim to mark annotation later\n",
    "ax3.set_xticks(ind + width)\n",
    "ax3.set_xticklabels(['May', 'June', 'July'])"
   ]
  },
  {
   "cell_type": "markdown",
   "metadata": {},
   "source": [
    "#### c) What is the total time spent per month per user for Supercell, King and Zynga for July?\n",
    "\n",
    "To calculate the sum of time sessions for each company, then divided by user number in July."
   ]
  },
  {
   "cell_type": "code",
   "execution_count": 16,
   "metadata": {
    "collapsed": false
   },
   "outputs": [
    {
     "data": {
      "text/plain": [
       "company_name  month\n",
       "Amazon        5         39145.0\n",
       "              6         35955.0\n",
       "              7         32936.0\n",
       "Facebook      5        656900.0\n",
       "              6        687815.0\n",
       "              7        691026.0\n",
       "Google        5        258387.0\n",
       "              6        254084.0\n",
       "              7        255790.0\n",
       "King          5        158520.0\n",
       "              6        132718.0\n",
       "              7        154668.0\n",
       "Supercell     5         46873.0\n",
       "              6         42948.0\n",
       "              7         49130.0\n",
       "Walmart       5         13093.0\n",
       "              6         10339.0\n",
       "              7          8233.0\n",
       "Zynga         5         54898.0\n",
       "              6         58276.0\n",
       "              7         56731.0\n",
       "Name: duration, dtype: float64"
      ]
     },
     "execution_count": 16,
     "metadata": {},
     "output_type": "execute_result"
    }
   ],
   "source": [
    "# get the sessions duration and sums\n",
    "\n",
    "user_growth_rates_df['duration'] = (user_growth_rates_df['end_timestamp'] - user_growth_rates_df['start_timestamp']).astype('timedelta64[m]')\n",
    "user_growth_rates_df.groupby(['company_name', 'month']).duration.sum()"
   ]
  },
  {
   "cell_type": "code",
   "execution_count": 17,
   "metadata": {
    "collapsed": false
   },
   "outputs": [
    {
     "name": "stdout",
     "output_type": "stream",
     "text": [
      "Total time spent per month per user for Supercell, King and Zynga are: 45.49, 71.61 and 32.60 hours, respectively.\n"
     ]
    }
   ],
   "source": [
    "# total time spent per person = (session sum)(m) / 60 / (users number in July)\n",
    "\n",
    "king_time_july = 154668 / 60 / 36\n",
    "supercell_time_july = 49130 / 60 / 18\n",
    "zynga_time_july = 56731 / 60 / 29\n",
    "\n",
    "print('Total time spent per month per user for Supercell, King and Zynga are: \\\n",
    "{:.2f}, {:.2f} and {:.2f} hours, respectively.'.format(supercell_time_july, king_time_july, zynga_time_july))"
   ]
  },
  {
   "cell_type": "code",
   "execution_count": 18,
   "metadata": {
    "collapsed": false
   },
   "outputs": [
    {
     "data": {
      "image/png": "[encoded data removed]",
      "text/plain": [
       "<matplotlib.figure.Figure at 0x21600c8d3c8>"
      ]
     },
     "metadata": {},
     "output_type": "display_data"
    }
   ],
   "source": [
    "plt.figure(figsize=(8,6)) # set a new figure\n",
    "x = range(3)\n",
    "\n",
    "time_spent_bar = plt.bar(x, list([supercell_time_july, king_time_july, zynga_time_july]), align='center') # bar plot all the values\n",
    "plt.xticks(x, ['Supercell', 'King', 'Zynga'], fontsize=12) # set xticks by company name\n",
    "# plt.ylim(-0.1, 0.1) # set ylim to mark annotation later\n",
    "plt.xlabel('Company', fontsize=14)\n",
    "plt.ylabel('Total time spent per month per user in July (h)', fontsize=14)\n",
    "\n",
    "# To set a method for labeling the exact number on the bar chart\n",
    "def autolabel(rects):\n",
    "    # attach some annotation labels\n",
    "    for rect in rects:\n",
    "        height = int(rect.get_height())\n",
    "        plt.annotate(height, \n",
    "                (rect.get_x() + rect.get_width() / 2., height), \n",
    "                ha='center', \n",
    "                va='center', \n",
    "                xytext=(0, 10), \n",
    "                fontsize=12,\n",
    "                textcoords='offset points')\n",
    "\n",
    "autolabel(time_spent_bar) # lable the current bar chart"
   ]
  },
  {
   "cell_type": "markdown",
   "metadata": {},
   "source": [
    "#### d) Which of Supercell, King and Zynga had the largest average session duration in June?\n",
    "\n",
    "(average session duration) = (sum session duration) / (sessions number)"
   ]
  },
  {
   "cell_type": "code",
   "execution_count": 19,
   "metadata": {
    "collapsed": false
   },
   "outputs": [
    {
     "data": {
      "text/plain": [
       "company_name  month\n",
       "Amazon        5         2981\n",
       "              6         2922\n",
       "              7         2918\n",
       "Facebook      5        31020\n",
       "              6        30733\n",
       "              7        30996\n",
       "Google        5         4593\n",
       "              6         4575\n",
       "              7         4599\n",
       "King          5         2987\n",
       "              6         2926\n",
       "              7         2925\n",
       "Supercell     5         1820\n",
       "              6         1768\n",
       "              7         1868\n",
       "Walmart       5          652\n",
       "              6          625\n",
       "              7          618\n",
       "Zynga         5         3384\n",
       "              6         3487\n",
       "              7         3530\n",
       "dtype: int64"
      ]
     },
     "execution_count": 19,
     "metadata": {},
     "output_type": "execute_result"
    }
   ],
   "source": [
    "# get sessions number in each month\n",
    "user_growth_rates_df.groupby(['company_name', 'month']).duration.size()"
   ]
  },
  {
   "cell_type": "code",
   "execution_count": 20,
   "metadata": {
    "collapsed": false
   },
   "outputs": [
    {
     "name": "stdout",
     "output_type": "stream",
     "text": [
      "Average session duration for Supercell, King and Zynga in June are: 24.29, 45.36 and 16.71 minutes, respectively.\n",
      "So King had the largest average session duration in June.\n"
     ]
    }
   ],
   "source": [
    "# (average session duration) = (sum session duration) / (sessions number)\n",
    "\n",
    "king_average_duration_june = 132718 / 2926\n",
    "supercell_average_duration_june = 42948 / 1768\n",
    "zynga_average_duration_june = 58276 / 3487\n",
    "\n",
    "print('Average session duration for Supercell, King and Zynga in June are: \\\n",
    "{:.2f}, {:.2f} and {:.2f} minutes, respectively.'.format(supercell_average_duration_june, \\\n",
    "king_average_duration_june, zynga_average_duration_june))\n",
    "print('So King had the largest average session duration in June.')"
   ]
  },
  {
   "cell_type": "code",
   "execution_count": 21,
   "metadata": {
    "collapsed": false
   },
   "outputs": [
    {
     "data": {
      "image/png": "[encoded data removed]",
      "text/plain": [
       "<matplotlib.figure.Figure at 0x21600d6ccc0>"
      ]
     },
     "metadata": {},
     "output_type": "display_data"
    }
   ],
   "source": [
    "plt.figure(figsize=(8,6)) # set a new figure\n",
    "x = range(3)\n",
    "\n",
    "average_session_duration_bar = plt.bar(x, list([supercell_average_duration_june, king_average_duration_june, zynga_average_duration_june]), align='center') # bar plot all the values\n",
    "plt.xticks(x, ['Supercell', 'King', 'Zynga'], fontsize=12) # set xticks by company name\n",
    "# plt.ylim(-0.1, 0.1) # set ylim to mark annotation later\n",
    "plt.xlabel('Company', fontsize=14)\n",
    "plt.ylabel('Average session duration in June (m)', fontsize=14)\n",
    "\n",
    "autolabel(average_session_duration_bar) # lable the current bar chart"
   ]
  },
  {
   "cell_type": "markdown",
   "metadata": {},
   "source": [
    "#### e) What is the gender distribution of Supercell vs. King users?"
   ]
  },
  {
   "cell_type": "code",
   "execution_count": 22,
   "metadata": {
    "collapsed": false
   },
   "outputs": [
    {
     "data": {
      "text/plain": [
       "company_name  gender\n",
       "Amazon        1         52\n",
       "              2         43\n",
       "Facebook      1         55\n",
       "              2         45\n",
       "Google        1         54\n",
       "              2         45\n",
       "King          1         17\n",
       "              2         22\n",
       "Supercell     1         14\n",
       "              2          6\n",
       "Walmart       1         39\n",
       "              2         33\n",
       "Zynga         1         18\n",
       "              2         16\n",
       "Name: user_id, dtype: int64"
      ]
     },
     "execution_count": 22,
     "metadata": {},
     "output_type": "execute_result"
    }
   ],
   "source": [
    "# merge user_growth_rates_df with demographics information\n",
    "user_growth_rates_df = pd.merge(user_growth_rates_df, demographics_df, on='user_id', how='left')\n",
    "\n",
    "# show gender distribution for each company\n",
    "user_growth_rates_df.groupby(['company_name', 'gender']).user_id.nunique()"
   ]
  },
  {
   "cell_type": "code",
   "execution_count": 23,
   "metadata": {
    "collapsed": false
   },
   "outputs": [
    {
     "data": {
      "image/png": "[encoded data removed]",
      "text/plain": [
       "<matplotlib.figure.Figure at 0x21601209a20>"
      ]
     },
     "metadata": {},
     "output_type": "display_data"
    }
   ],
   "source": [
    "# To plot with matplotlib\n",
    "\n",
    "ind = np.arange(2)  # the x locations for the groups\n",
    "width = 0.35       # the width of the bars\n",
    "\n",
    "fig = plt.figure(figsize=(12,6)) # set a new figure\n",
    "\n",
    "ax1 = fig.add_subplot(121)\n",
    "supercell_gender_bar = ax1.bar(ind,[14, 6])\n",
    "ax1.set_title('Supercell')\n",
    "ax1.set_ylim([0, 25]) # set ylim to mark annotation later\n",
    "ax1.set_xticks(ind + width)\n",
    "ax1.set_xticklabels(['Male', 'Female'])\n",
    "ax1.set_ylabel('Gender distribution', fontsize=14)\n",
    "autolabel(supercell_gender_bar)\n",
    "\n",
    "ax2 = fig.add_subplot(122)\n",
    "king_gender_bar = ax2.bar(ind,[17, 22])\n",
    "ax2.set_title('King')\n",
    "ax2.set_ylim([0, 25]) # set ylim to mark annotation later\n",
    "ax2.set_xticks(ind + width)\n",
    "ax2.set_xticklabels(['Male', 'Female'])\n",
    "autolabel(king_gender_bar)"
   ]
  },
  {
   "cell_type": "markdown",
   "metadata": {},
   "source": [
    "### Phase 2: Clash of Clans vs. Candy Crush Saga"
   ]
  },
  {
   "cell_type": "markdown",
   "metadata": {},
   "source": [
    "#### a)  What’s the reach of Clash of Clans among Candy Crush Saga users?\n",
    "\n",
    "Get the user_id for Candy Crush Saga users, then check how many users are aslo Clash of Clans users."
   ]
  },
  {
   "cell_type": "code",
   "execution_count": 24,
   "metadata": {
    "collapsed": false
   },
   "outputs": [],
   "source": [
    "# get the dateframe for Clash of Clans and Candy Crush Saga users\n",
    "candy_df = user_growth_rates_df[user_growth_rates_df['property'].isin(['candy crush saga'])]\n",
    "candy_users = list(candy_df['user_id'].unique())\n",
    "candy_users_number = len(candy_users)\n",
    "candy_user_df = user_growth_rates_df[user_growth_rates_df['user_id'].isin(candy_users)]\n",
    "\n",
    "clash_df = candy_user_df[candy_user_df['property'].isin(['clash of clans'])]\n",
    "clash_users = list(clash_df['user_id'].unique())\n",
    "clash_users_number = len(clash_users)"
   ]
  },
  {
   "cell_type": "code",
   "execution_count": 25,
   "metadata": {
    "collapsed": false
   },
   "outputs": [
    {
     "name": "stdout",
     "output_type": "stream",
     "text": [
      "The reach of Clash of Clans among Candy Crush Saga users is 10.71%.\n"
     ]
    }
   ],
   "source": [
    "print('The reach of Clash of Clans among Candy Crush Saga users is {:.2f}%.'.format(clash_users_number/candy_users_number*100))"
   ]
  },
  {
   "cell_type": "markdown",
   "metadata": {},
   "source": [
    "#### b)  What’s the reach of Candy Crush Saga among users aged 35 or above? How does this compare to Clash of Clans?"
   ]
  },
  {
   "cell_type": "code",
   "execution_count": 26,
   "metadata": {
    "collapsed": false
   },
   "outputs": [],
   "source": [
    "# get users aged 35 or above df\n",
    "aged_35_or_above_df = user_growth_rates_df[user_growth_rates_df['age'] >= 35]\n",
    "aged_35_or_above_number = aged_35_or_above_df['user_id'].nunique()\n",
    "\n",
    "# get candy users aged 35 or above\n",
    "candy_35_df = aged_35_or_above_df[aged_35_or_above_df['property'].isin(['candy crush saga'])]\n",
    "candy_35_number = candy_35_df['user_id'].nunique()\n",
    "\n",
    "# get clash users aged 35 or above\n",
    "clash_35_df = aged_35_or_above_df[aged_35_or_above_df['property'].isin(['clash of clans'])]\n",
    "clash_35_number = clash_35_df['user_id'].nunique()"
   ]
  },
  {
   "cell_type": "code",
   "execution_count": 27,
   "metadata": {
    "collapsed": false
   },
   "outputs": [
    {
     "name": "stdout",
     "output_type": "stream",
     "text": [
      "The reach of Clash of Clans and Candy Crush Saga users that among aged 35 or above are 14.47% and 28.95%.\n"
     ]
    }
   ],
   "source": [
    "print('The reach of Clash of Clans and Candy Crush Saga users that among aged 35 or above are {:.2f}% and {:.2f}%.'\\\n",
    ".format(clash_35_number/aged_35_or_above_number*100, candy_35_number/aged_35_or_above_number*100))"
   ]
  },
  {
   "cell_type": "markdown",
   "metadata": {},
   "source": [
    "#### c)  How many users play Candy Crush Saga on Tablets?"
   ]
  },
  {
   "cell_type": "code",
   "execution_count": 28,
   "metadata": {
    "collapsed": false
   },
   "outputs": [
    {
     "data": {
      "text/plain": [
       "device_type\n",
       "Smartphone    21\n",
       "Tablet         7\n",
       "Name: user_id_x, dtype: int64"
      ]
     },
     "execution_count": 28,
     "metadata": {},
     "output_type": "execute_result"
    }
   ],
   "source": [
    "# merge candy_df and devices dataframe\n",
    "\n",
    "candy_crush_saga_devices_df = pd.merge(candy_df, devices_df, on='device_id', how='left')\n",
    "candy_crush_saga_devices_df.groupby(['device_type']).user_id_x.nunique()"
   ]
  },
  {
   "cell_type": "code",
   "execution_count": 29,
   "metadata": {
    "collapsed": false
   },
   "outputs": [
    {
     "name": "stdout",
     "output_type": "stream",
     "text": [
      "There are 7 users playing Candy Crush Saga on Tablets.\n"
     ]
    }
   ],
   "source": [
    "print('There are 7 users playing Candy Crush Saga on Tablets.')"
   ]
  },
  {
   "cell_type": "markdown",
   "metadata": {},
   "source": [
    "#### d)  What’s the deduplicated net reach of Clash of Clans and Candy Crush Saga combined? \n",
    "\n",
    "I am not quite sure about the concept of deduplicated net reach. I know what net reach and dulications are. So I calculated the duplications here."
   ]
  },
  {
   "cell_type": "code",
   "execution_count": 30,
   "metadata": {
    "collapsed": false
   },
   "outputs": [
    {
     "name": "stdout",
     "output_type": "stream",
     "text": [
      "47\n"
     ]
    }
   ],
   "source": [
    "# get duplications for candy\n",
    "\n",
    "candy_df = pd.DataFrame(candy_df.groupby(['month']).user_id.unique())\n",
    "\n",
    "# calculate the duplications in June and July\n",
    "candy_deduplicated_net_reach = len(set(candy_df.ix[5][0]) & set(candy_df.ix[6][0])) + \\\n",
    "len(set(candy_df.ix[6][0]) & set(candy_df.ix[7][0]))\n",
    "\n",
    "print(candy_deduplicated_net_reach)"
   ]
  },
  {
   "cell_type": "code",
   "execution_count": 31,
   "metadata": {
    "collapsed": false
   },
   "outputs": [
    {
     "name": "stdout",
     "output_type": "stream",
     "text": [
      "24\n"
     ]
    }
   ],
   "source": [
    "# get duplications for clash\n",
    "\n",
    "clash_df = user_growth_rates_df[user_growth_rates_df['property']=='clash of clans']\n",
    "clash_df = pd.DataFrame(clash_df.groupby(['month']).user_id.unique())\n",
    "\n",
    "# calculate the duplications in June and July\n",
    "clash_deduplicated_net_reach = len(set(clash_df.ix[5][0]) & set(clash_df.ix[6][0])) + \\\n",
    "len(set(clash_df.ix[6][0]) & set(clash_df.ix[7][0]))\n",
    "\n",
    "print(clash_deduplicated_net_reach)"
   ]
  },
  {
   "cell_type": "code",
   "execution_count": 32,
   "metadata": {
    "collapsed": false
   },
   "outputs": [
    {
     "name": "stdout",
     "output_type": "stream",
     "text": [
      "There are 71 deduplicated net reach of Clash of Clans and Candy Crush Saga combined.\n"
     ]
    }
   ],
   "source": [
    "# combine the 2 duplications\n",
    "print('There are {} deduplicated net reach of Clash of Clans and Candy Crush Saga combined.'.format(\\\n",
    "candy_deduplicated_net_reach+ clash_deduplicated_net_reach))"
   ]
  },
  {
   "cell_type": "markdown",
   "metadata": {},
   "source": [
    "### Phase 3: Advertising Channels"
   ]
  },
  {
   "cell_type": "markdown",
   "metadata": {},
   "source": [
    "#### a)  What’s the reach of each of YouTube, Facebook, Amazon  and Walmart among King and Zynga gamers who are not Supercell gamers? \n",
    "\n",
    "Filter the King and Zynga gamers who are not Supercell gamers first, then calculate the reach of each of YouTube, Facebook, Amazon  and Walmart"
   ]
  },
  {
   "cell_type": "code",
   "execution_count": 33,
   "metadata": {
    "collapsed": false
   },
   "outputs": [
    {
     "data": {
      "text/plain": [
       "company_name\n",
       "Amazon      56\n",
       "Facebook    59\n",
       "Google      58\n",
       "King        34\n",
       "Walmart     44\n",
       "Zynga       33\n",
       "Name: user_id, dtype: int64"
      ]
     },
     "execution_count": 33,
     "metadata": {},
     "output_type": "execute_result"
    }
   ],
   "source": [
    "# Filter the non supercell_user\n",
    "supercell_user_df = user_growth_rates_df[user_growth_rates_df['company_name'].isin(['Supercell'])]\n",
    "supercell_users = list(supercell_user_df['user_id'].unique())\n",
    "non_supercell_user_df = user_growth_rates_df[~user_growth_rates_df['user_id'].isin(supercell_users)]\n",
    "\n",
    "# in non supercell_user, filter the king_and_zynga_user\n",
    "king_and_zynga_user_df = non_supercell_user_df[non_supercell_user_df['company_name'].isin(['King', 'Zynga'])]\n",
    "king_and_zynga_user_users = list(king_and_zynga_user_df['user_id'].unique())\n",
    "king_and_zynga_no_supercell_user_df = user_growth_rates_df[user_growth_rates_df['user_id'].isin(king_and_zynga_user_users)]\n",
    "king_and_zynga_no_supercell_user_number = king_and_zynga_no_supercell_user_df.user_id.nunique()\n",
    "king_and_zynga_no_supercell_user_df.groupby('company_name').user_id.nunique()"
   ]
  },
  {
   "cell_type": "code",
   "execution_count": 34,
   "metadata": {
    "collapsed": false
   },
   "outputs": [
    {
     "name": "stdout",
     "output_type": "stream",
     "text": [
      "The reach of YouTube, Facebook, Amazon and Walmart among King and Zynga gamers who are not Supercell gamers are: 98.31%, 100.00%, 94.92% and 74.58%.\n"
     ]
    }
   ],
   "source": [
    "print('The reach of YouTube, Facebook, Amazon and Walmart among King and Zynga gamers who are not Supercell gamers are: {:.2f}%, {:.2f}%, {:.2f}% and {:.2f}%.'\\\n",
    ".format(58/king_and_zynga_no_supercell_user_number*100, 59/king_and_zynga_no_supercell_user_number*100, 56/king_and_zynga_no_supercell_user_number*100, 44/king_and_zynga_no_supercell_user_number*100))"
   ]
  },
  {
   "cell_type": "code",
   "execution_count": 35,
   "metadata": {
    "collapsed": false
   },
   "outputs": [
    {
     "data": {
      "image/png": "[encoded data removed]",
      "text/plain": [
       "<matplotlib.figure.Figure at 0x2160128b320>"
      ]
     },
     "metadata": {},
     "output_type": "display_data"
    }
   ],
   "source": [
    "plt.figure(figsize=(12,6)) # set a new figure\n",
    "x = range(4)\n",
    "\n",
    "reach_bar = plt.bar(x, list([58/king_and_zynga_no_supercell_user_number*100, 59/king_and_zynga_no_supercell_user_number*100, 56/king_and_zynga_no_supercell_user_number*100, 44/king_and_zynga_no_supercell_user_number*100]), align='center') # bar plot all the values\n",
    "plt.xticks(x, ['YouTube', 'Facebook', 'Amazon', 'Walmart'], fontsize=12) # set xticks by company name\n",
    "plt.ylim(0, 120) # set ylim to mark annotation later\n",
    "plt.xlabel('Company', fontsize=14)\n",
    "plt.ylabel('Reach (%)', fontsize=14)\n",
    "\n",
    "autolabel(reach_bar) # lable the current bar chart"
   ]
  },
  {
   "cell_type": "markdown",
   "metadata": {},
   "source": [
    "#### b)  What is Facebook’s average number of sessions per active user per month among Clash of Clan players? And what is it among Candy Crush Saga users? \n",
    "\n",
    "For all Clash of Clan players, get their session related to Facebook first, than get Facebook active user number in these users."
   ]
  },
  {
   "cell_type": "code",
   "execution_count": 36,
   "metadata": {
    "collapsed": false
   },
   "outputs": [],
   "source": [
    "# filter all clash users sessions out\n",
    "clash_user_session_df = user_growth_rates_df[user_growth_rates_df['property'].isin(['clash of clans'])]\n",
    "clash_users = list(clash_user_session_df['user_id'].unique())\n",
    "clash_user_df = user_growth_rates_df[user_growth_rates_df['user_id'].isin(clash_users)]\n",
    "\n",
    "# filter all candy users sessions out\n",
    "candy_user_session_df = user_growth_rates_df[user_growth_rates_df['property'].isin(['candy crush saga'])]\n",
    "candy_users = list(candy_user_session_df['user_id'].unique())\n",
    "candy_user_df = user_growth_rates_df[user_growth_rates_df['user_id'].isin(candy_users)]"
   ]
  },
  {
   "cell_type": "code",
   "execution_count": 37,
   "metadata": {
    "collapsed": false
   },
   "outputs": [
    {
     "name": "stdout",
     "output_type": "stream",
     "text": [
      "Facebook’s average number of sessions per active user per month among Clash of Clan players and Candy Crush Saga users are: 233.3 and 362.6, respectlvely.\n"
     ]
    }
   ],
   "source": [
    "# in clash users sessions, filter all Facebook sessions out\n",
    "# (average number of sessions) = (all Facebook sessions) / (Facebook users number) / (month number)\n",
    "clash_facebook_sessions = len(clash_user_df[clash_user_df['company_name']=='Facebook'])\n",
    "clash_facebook_users = clash_user_df[clash_user_df['company_name']=='Facebook'].user_id.nunique()\n",
    "clash_average_facebook_number = clash_facebook_sessions / clash_facebook_users / 3\n",
    "\n",
    "candy_facebook_sessions = len(candy_user_df[candy_user_df['company_name']=='Facebook'])\n",
    "candy_facebook_users = candy_user_df[candy_user_df['company_name']=='Facebook'].user_id.nunique()\n",
    "candy_average_facebook_number = candy_facebook_sessions / candy_facebook_users / 3\n",
    "\n",
    "print(\"Facebook’s average number of sessions per active user per month among Clash of Clan players and Candy Crush Saga users are: {:.1f} and {:.1f}, respectlvely.\"\\\n",
    ".format(clash_average_facebook_number, candy_average_facebook_number))"
   ]
  },
  {
   "cell_type": "code",
   "execution_count": 38,
   "metadata": {
    "collapsed": false
   },
   "outputs": [
    {
     "data": {
      "image/png": "[encoded data removed]",
      "text/plain": [
       "<matplotlib.figure.Figure at 0x21601290e80>"
      ]
     },
     "metadata": {},
     "output_type": "display_data"
    }
   ],
   "source": [
    "plt.figure(figsize=(8,6)) # set a new figure\n",
    "x = range(2)\n",
    "\n",
    "session_bar = plt.bar(x, list([clash_average_facebook_number, candy_average_facebook_number]), align='center') # bar plot all the values\n",
    "plt.xticks(x, ['Clash of Clan', 'Candy Crush Saga'], fontsize=12) # set xticks by company name\n",
    "# plt.ylim(0, 120) # set ylim to mark annotation later\n",
    "plt.xlabel('Company', fontsize=14)\n",
    "plt.ylabel('Facebook’s monthly average number of sessions', fontsize=14)\n",
    "\n",
    "autolabel(session_bar) # lable the current bar chart"
   ]
  },
  {
   "cell_type": "code",
   "execution_count": null,
   "metadata": {
    "collapsed": true
   },
   "outputs": [],
   "source": []
  }
 ],
 "metadata": {
  "kernelspec": {
   "display_name": "Python 3",
   "language": "python",
   "name": "python3"
  },
  "language_info": {
   "codemirror_mode": {
    "name": "ipython",
    "version": 3
   },
   "file_extension": ".py",
   "mimetype": "text/x-python",
   "name": "python",
   "nbconvert_exporter": "python",
   "pygments_lexer": "ipython3",
   "version": "3.5.2"
  }
 },
 "nbformat": 4,
 "nbformat_minor": 0
}
